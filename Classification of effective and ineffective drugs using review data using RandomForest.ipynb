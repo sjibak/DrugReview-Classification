{
 "cells": [
  {
   "cell_type": "markdown",
   "metadata": {},
   "source": [
    "# Text Analytics using Druglib Data:\n",
    " This is a high level illustration about the labelled data available  in public domain.\n",
    "### Data:\n",
    " Source : UCI Machine Learning Repository\n",
    "### Brief Description : \n",
    " This data has altogether eight columns of interest. Specifically three if we say about the feature variable available in it. all the review related fields available in the data. All of them are textual fields. We will do a some analysis and try to predict all three labelled(strictly categorical) data available in the dataset which are respectively 'rating', 'effectiveness' and 'sideEffects'.\n",
    " \n",
    " As of now, we will only concentrate on predicting effectiveness with the help of the benefitreview text field available in the data set. "
   ]
  },
  {
   "cell_type": "code",
   "execution_count": 20,
   "metadata": {},
   "outputs": [],
   "source": [
    "##necessary module imports\n",
    "\n",
    "%matplotlib inline\n",
    "import numpy as np\n",
    "import re\n",
    "import string\n",
    "import nltk\n",
    "import pandas as pd \n",
    "import seaborn as sns\n",
    "import matplotlib.pyplot as plt\n",
    "from sklearn.feature_extraction.text import TfidfVectorizer, CountVectorizer\n",
    "from sklearn import decomposition, ensemble\n",
    "from sklearn.ensemble import RandomForestClassifier\n",
    "from sklearn.pipeline import Pipeline\n",
    "from sklearn.metrics import accuracy_score\n",
    "from sklearn.metrics import classification_report\n",
    "from sklearn.metrics import confusion_matrix\n",
    "from sklearn.feature_selection import chi2"
   ]
  },
  {
   "cell_type": "markdown",
   "metadata": {},
   "source": [
    "## Reading in Data"
   ]
  },
  {
   "cell_type": "code",
   "execution_count": 3,
   "metadata": {},
   "outputs": [],
   "source": [
    "#data import\n",
    "train_data = pd.read_csv(\"drugLibTrain_raw.tsv\", sep='\\t', usecols=[3,6])\n",
    "train_data['benefitsReview'] = train_data['benefitsReview'].astype('str')\n",
    "test_data = pd.read_csv(\"drugLibTest_raw.tsv\", sep='\\t', usecols=[3,6])\n",
    "test_data['benefitsReview'] = test_data['benefitsReview'].astype('str')"
   ]
  },
  {
   "cell_type": "markdown",
   "metadata": {},
   "source": [
    "## Basic Preprocessing\n",
    "\n",
    "In accordance with NLP problem solving paradigm, we will be doing some basic preprocessing of text data, such as,\n",
    "1. Removing Punctuation\n",
    "2. Removing Numerical Figures\n",
    "3. Removing Stopwords\n",
    "4. Obtaining Lemmma of the vocabulary"
   ]
  },
  {
   "cell_type": "code",
   "execution_count": 4,
   "metadata": {},
   "outputs": [],
   "source": [
    "# import stopwords\n",
    "wn = nltk.WordNetLemmatizer()\n",
    "stopwords = nltk.corpus.stopwords.words('english')"
   ]
  },
  {
   "cell_type": "code",
   "execution_count": 5,
   "metadata": {},
   "outputs": [],
   "source": [
    "#defining a function for text preprocessing\n",
    "def clean_text(text):\n",
    "    text1 = \"\".join([word for word in text if word not in string.punctuation])\n",
    "    text2 = re.sub('\\d+', '', text1)\n",
    "    tokens = re.split('\\W+', text2)\n",
    "    text3 = [word for word in tokens if word not in stopwords]\n",
    "    text4 = [wn.lemmatize(word) for word in text3]\n",
    "    finaltext = \" \".join(text for text in text4)\n",
    "    return finaltext"
   ]
  },
  {
   "cell_type": "code",
   "execution_count": 6,
   "metadata": {},
   "outputs": [],
   "source": [
    "#applying text cleaning function in the text field\n",
    "train_data['benefitsReview_lemma'] = train_data['benefitsReview'].apply(lambda x: clean_text(x.lower()))\n",
    "test_data['benefitsReview_lemma'] = test_data['benefitsReview'].apply(lambda x: clean_text(x.lower()))"
   ]
  },
  {
   "cell_type": "code",
   "execution_count": 7,
   "metadata": {},
   "outputs": [
    {
     "data": {
      "text/html": [
       "<div>\n",
       "<style scoped>\n",
       "    .dataframe tbody tr th:only-of-type {\n",
       "        vertical-align: middle;\n",
       "    }\n",
       "\n",
       "    .dataframe tbody tr th {\n",
       "        vertical-align: top;\n",
       "    }\n",
       "\n",
       "    .dataframe thead th {\n",
       "        text-align: right;\n",
       "    }\n",
       "</style>\n",
       "<table border=\"1\" class=\"dataframe\">\n",
       "  <thead>\n",
       "    <tr style=\"text-align: right;\">\n",
       "      <th></th>\n",
       "      <th>effectiveness</th>\n",
       "      <th>benefitsReview</th>\n",
       "      <th>benefitsReview_lemma</th>\n",
       "    </tr>\n",
       "  </thead>\n",
       "  <tbody>\n",
       "    <tr>\n",
       "      <th>0</th>\n",
       "      <td>Highly Effective</td>\n",
       "      <td>slowed the progression of left ventricular dys...</td>\n",
       "      <td>slowed progression left ventricular dysfunctio...</td>\n",
       "    </tr>\n",
       "    <tr>\n",
       "      <th>1</th>\n",
       "      <td>Highly Effective</td>\n",
       "      <td>Although this type of birth control has more c...</td>\n",
       "      <td>although type birth control con pro help cramp...</td>\n",
       "    </tr>\n",
       "    <tr>\n",
       "      <th>2</th>\n",
       "      <td>Highly Effective</td>\n",
       "      <td>I was used to having cramps so badly that they...</td>\n",
       "      <td>used cramp badly would leave balled bed least ...</td>\n",
       "    </tr>\n",
       "    <tr>\n",
       "      <th>3</th>\n",
       "      <td>Marginally Effective</td>\n",
       "      <td>The acid reflux went away for a few months aft...</td>\n",
       "      <td>acid reflux went away month day drug heartburn...</td>\n",
       "    </tr>\n",
       "    <tr>\n",
       "      <th>4</th>\n",
       "      <td>Marginally Effective</td>\n",
       "      <td>I think that the Lyrica was starting to help w...</td>\n",
       "      <td>think lyrica starting help pain sideeffects se...</td>\n",
       "    </tr>\n",
       "  </tbody>\n",
       "</table>\n",
       "</div>"
      ],
      "text/plain": [
       "          effectiveness                                     benefitsReview  \\\n",
       "0      Highly Effective  slowed the progression of left ventricular dys...   \n",
       "1      Highly Effective  Although this type of birth control has more c...   \n",
       "2      Highly Effective  I was used to having cramps so badly that they...   \n",
       "3  Marginally Effective  The acid reflux went away for a few months aft...   \n",
       "4  Marginally Effective  I think that the Lyrica was starting to help w...   \n",
       "\n",
       "                                benefitsReview_lemma  \n",
       "0  slowed progression left ventricular dysfunctio...  \n",
       "1  although type birth control con pro help cramp...  \n",
       "2  used cramp badly would leave balled bed least ...  \n",
       "3  acid reflux went away month day drug heartburn...  \n",
       "4  think lyrica starting help pain sideeffects se...  "
      ]
     },
     "execution_count": 7,
     "metadata": {},
     "output_type": "execute_result"
    }
   ],
   "source": [
    "train_data.head()"
   ]
  },
  {
   "cell_type": "markdown",
   "metadata": {},
   "source": [
    "# Distribution of Data"
   ]
  },
  {
   "cell_type": "code",
   "execution_count": 9,
   "metadata": {},
   "outputs": [
    {
     "data": {
      "image/png": "[encoded data removed]",
      "text/plain": [
       "<Figure size 432x288 with 1 Axes>"
      ]
     },
     "metadata": {
      "needs_background": "light"
     },
     "output_type": "display_data"
    }
   ],
   "source": [
    "#plot for ratings\n",
    "\n",
    "view = sns.countplot(x=\"effectiveness\", data=train_data)\n",
    "view.set_xticklabels(view.get_xticklabels(), rotation=40, ha=\"right\")\n",
    "plt.title('Frequency Distribution of Ratings', fontsize = 24)\n",
    "plt.ylabel('Number of Occurrences', fontsize=16)\n",
    "plt.xlabel('Rating', fontsize=20)\n",
    "plt.show()"
   ]
  },
  {
   "cell_type": "markdown",
   "metadata": {},
   "source": [
    "## Converting Categorical Rating data into Binary Classes\n",
    "\n",
    "We will convert five rating classes into binary classes of effective and ineffective. We will consider, \"Highly Effective\", \"Considerably Effective\",\"Moderately Effective\", these three classes as effective and \"Marginally Effective\", \"Ineffective\" as ineffective."
   ]
  },
  {
   "cell_type": "code",
   "execution_count": 10,
   "metadata": {},
   "outputs": [],
   "source": [
    "cleanup_nums = {\"effectiveness\": {\"Highly Effective\": 1, \"Considerably Effective\": 1,\"Moderately Effective\": 1, \n",
    "                                  \"Marginally Effective\": 0, \"Ineffective\": 0}}\n",
    "train_data.replace(cleanup_nums, inplace=True)\n",
    "test_data.replace(cleanup_nums, inplace=True)"
   ]
  },
  {
   "cell_type": "code",
   "execution_count": 11,
   "metadata": {},
   "outputs": [
    {
     "data": {
      "text/html": [
       "<div>\n",
       "<style scoped>\n",
       "    .dataframe tbody tr th:only-of-type {\n",
       "        vertical-align: middle;\n",
       "    }\n",
       "\n",
       "    .dataframe tbody tr th {\n",
       "        vertical-align: top;\n",
       "    }\n",
       "\n",
       "    .dataframe thead th {\n",
       "        text-align: right;\n",
       "    }\n",
       "</style>\n",
       "<table border=\"1\" class=\"dataframe\">\n",
       "  <thead>\n",
       "    <tr style=\"text-align: right;\">\n",
       "      <th></th>\n",
       "      <th>effectiveness</th>\n",
       "      <th>benefitsReview</th>\n",
       "      <th>benefitsReview_lemma</th>\n",
       "    </tr>\n",
       "  </thead>\n",
       "  <tbody>\n",
       "    <tr>\n",
       "      <th>0</th>\n",
       "      <td>1</td>\n",
       "      <td>slowed the progression of left ventricular dys...</td>\n",
       "      <td>slowed progression left ventricular dysfunctio...</td>\n",
       "    </tr>\n",
       "    <tr>\n",
       "      <th>1</th>\n",
       "      <td>1</td>\n",
       "      <td>Although this type of birth control has more c...</td>\n",
       "      <td>although type birth control con pro help cramp...</td>\n",
       "    </tr>\n",
       "    <tr>\n",
       "      <th>2</th>\n",
       "      <td>1</td>\n",
       "      <td>I was used to having cramps so badly that they...</td>\n",
       "      <td>used cramp badly would leave balled bed least ...</td>\n",
       "    </tr>\n",
       "    <tr>\n",
       "      <th>3</th>\n",
       "      <td>0</td>\n",
       "      <td>The acid reflux went away for a few months aft...</td>\n",
       "      <td>acid reflux went away month day drug heartburn...</td>\n",
       "    </tr>\n",
       "    <tr>\n",
       "      <th>4</th>\n",
       "      <td>0</td>\n",
       "      <td>I think that the Lyrica was starting to help w...</td>\n",
       "      <td>think lyrica starting help pain sideeffects se...</td>\n",
       "    </tr>\n",
       "  </tbody>\n",
       "</table>\n",
       "</div>"
      ],
      "text/plain": [
       "   effectiveness                                     benefitsReview  \\\n",
       "0              1  slowed the progression of left ventricular dys...   \n",
       "1              1  Although this type of birth control has more c...   \n",
       "2              1  I was used to having cramps so badly that they...   \n",
       "3              0  The acid reflux went away for a few months aft...   \n",
       "4              0  I think that the Lyrica was starting to help w...   \n",
       "\n",
       "                                benefitsReview_lemma  \n",
       "0  slowed progression left ventricular dysfunctio...  \n",
       "1  although type birth control con pro help cramp...  \n",
       "2  used cramp badly would leave balled bed least ...  \n",
       "3  acid reflux went away month day drug heartburn...  \n",
       "4  think lyrica starting help pain sideeffects se...  "
      ]
     },
     "execution_count": 11,
     "metadata": {},
     "output_type": "execute_result"
    }
   ],
   "source": [
    "train_data.head()"
   ]
  },
  {
   "cell_type": "markdown",
   "metadata": {},
   "source": [
    "## Frequency Distribution "
   ]
  },
  {
   "cell_type": "code",
   "execution_count": 12,
   "metadata": {},
   "outputs": [
    {
     "data": {
      "image/png": "[encoded data removed]",
      "text/plain": [
       "<Figure size 432x288 with 1 Axes>"
      ]
     },
     "metadata": {
      "needs_background": "light"
     },
     "output_type": "display_data"
    }
   ],
   "source": [
    "view = sns.countplot(x=\"effectiveness\", data=train_data)\n",
    "view.set_xticklabels(view.get_xticklabels())\n",
    "plt.title('Frequency Distribution of Ratings', fontsize = 24)\n",
    "plt.ylabel('Number of Occurrences', fontsize=16)\n",
    "plt.xlabel('Rating', fontsize=20)\n",
    "plt.show()"
   ]
  },
  {
   "cell_type": "markdown",
   "metadata": {},
   "source": [
    "## As we can see, there is lot of imbalance in train data, one of the tactics of combating imbalanced classes is using Decision Tree algorithms, so, we are using Random Forest classifier to learn imbalanced data and set class_weight=balanced ."
   ]
  },
  {
   "cell_type": "markdown",
   "metadata": {},
   "source": [
    "## Split dataset for modelling "
   ]
  },
  {
   "cell_type": "code",
   "execution_count": 13,
   "metadata": {},
   "outputs": [],
   "source": [
    "X_train, X_test, y_train, y_test = [train_data.benefitsReview_lemma,test_data.benefitsReview_lemma,\n",
    "                                    train_data.effectiveness,test_data.effectiveness]"
   ]
  },
  {
   "cell_type": "markdown",
   "metadata": {},
   "source": [
    "# Building Model Pipeline and Tuning for better accuracy\n",
    "\n",
    "First, define a function to print out the accuracy score."
   ]
  },
  {
   "cell_type": "code",
   "execution_count": 14,
   "metadata": {},
   "outputs": [],
   "source": [
    "def accuracy_summary(pipeline, X_train, y_train, X_test, y_test):\n",
    "    sentiment_fit = pipeline.fit(X_train, y_train)\n",
    "    y_pred = sentiment_fit.predict(X_test)\n",
    "    accuracy = accuracy_score(y_test, y_pred)\n",
    "    print(\"accuracy score: {0:.2f}%\".format(accuracy*100))\n",
    "    return accuracy"
   ]
  },
  {
   "cell_type": "markdown",
   "metadata": {},
   "source": [
    "To have efficient sentiment analysis or solving any NLP problem, we need a lot of features. Its not easy to figure out the exact number of features are needed. So we are going to try, 5,000 to 10,000. And print out accuracy scores associate with the number of features."
   ]
  },
  {
   "cell_type": "code",
   "execution_count": 25,
   "metadata": {},
   "outputs": [],
   "source": [
    "cv = CountVectorizer()\n",
    "rf = RandomForestClassifier(class_weight=\"balanced\")\n",
    "tfidf = TfidfVectorizer()\n",
    "n_features = np.arange(5000,10000,1000)\n",
    "def nfeature_accuracy_checker(vectorizer=cv, n_features=n_features, stop_words=None, ngram_range=(1, 1), classifier=rf):\n",
    "    result = []\n",
    "    print(classifier)\n",
    "    print(\"\\n\")\n",
    "    for n in n_features:\n",
    "        vectorizer.set_params(stop_words=stopwords, max_features=n, ngram_range=ngram_range)\n",
    "        checker_pipeline = Pipeline([\n",
    "            ('vectorizer', vectorizer),\n",
    "            ('classifier', classifier)\n",
    "        ])\n",
    "        print(\"Test result for {} features\".format(n))\n",
    "        nfeature_accuracy = accuracy_summary(checker_pipeline, X_train, y_train, X_test, y_test)\n",
    "        result.append((n,nfeature_accuracy))\n",
    "    return result"
   ]
  },
  {
   "cell_type": "code",
   "execution_count": 26,
   "metadata": {},
   "outputs": [
    {
     "name": "stdout",
     "output_type": "stream",
     "text": [
      "Result for bigram without stop words (CountVectorization)\n",
      "\n",
      "RandomForestClassifier(bootstrap=True, class_weight='balanced',\n",
      "            criterion='gini', max_depth=None, max_features='auto',\n",
      "            max_leaf_nodes=None, min_impurity_decrease=0.0,\n",
      "            min_impurity_split=None, min_samples_leaf=1,\n",
      "            min_samples_split=2, min_weight_fraction_leaf=0.0,\n",
      "            n_estimators='warn', n_jobs=None, oob_score=False,\n",
      "            random_state=None, verbose=0, warm_start=False)\n",
      "\n",
      "\n",
      "Test result for 5000 features\n"
     ]
    },
    {
     "name": "stderr",
     "output_type": "stream",
     "text": [
      "C:\\ProgramData\\Anaconda3\\lib\\site-packages\\sklearn\\ensemble\\forest.py:246: FutureWarning: The default value of n_estimators will change from 10 in version 0.20 to 100 in 0.22.\n",
      "  \"10 in version 0.20 to 100 in 0.22.\", FutureWarning)\n"
     ]
    },
    {
     "name": "stdout",
     "output_type": "stream",
     "text": [
      "accuracy score: 87.93%\n",
      "Test result for 6000 features\n",
      "accuracy score: 88.13%\n",
      "Test result for 7000 features\n",
      "accuracy score: 87.16%\n",
      "Test result for 8000 features\n",
      "accuracy score: 87.36%\n",
      "Test result for 9000 features\n",
      "accuracy score: 88.32%\n"
     ]
    }
   ],
   "source": [
    "print(\"Result for bigram without stop words (CountVectorization)\\n\")\n",
    "feature_result_tgt = nfeature_accuracy_checker(vectorizer=cv,ngram_range=(1, 2))"
   ]
  },
  {
   "cell_type": "markdown",
   "metadata": {},
   "source": [
    "## Confusion Matrix "
   ]
  },
  {
   "cell_type": "code",
   "execution_count": 28,
   "metadata": {},
   "outputs": [],
   "source": [
    "cv = CountVectorizer(max_features=9000,ngram_range=(1, 2))\n",
    "pipeline = Pipeline([\n",
    "        ('vectorizer', cv),\n",
    "        ('classifier', rf)\n",
    "    ])\n",
    "sentiment_fit = pipeline.fit(X_train, y_train)\n",
    "y_pred = sentiment_fit.predict(X_test)\n"
   ]
  },
  {
   "cell_type": "code",
   "execution_count": 29,
   "metadata": {},
   "outputs": [
    {
     "name": "stdout",
     "output_type": "stream",
     "text": [
      "[[ 71  87]\n",
      " [ 42 836]]\n"
     ]
    },
    {
     "data": {
      "image/png": "[encoded data removed]",
      "text/plain": [
       "<Figure size 432x288 with 2 Axes>"
      ]
     },
     "metadata": {
      "needs_background": "light"
     },
     "output_type": "display_data"
    }
   ],
   "source": [
    "labels = [0, 1]\n",
    "cm = confusion_matrix(y_test, y_pred, labels)\n",
    "print(cm)\n",
    "fig = plt.figure()\n",
    "ax = fig.add_subplot(111)\n",
    "cax = ax.matshow(cm)\n",
    "plt.title('Confusion matrix of the classifier')\n",
    "fig.colorbar(cax)\n",
    "ax.set_xticklabels([''] + labels)\n",
    "ax.set_yticklabels([''] + labels)\n",
    "plt.xlabel('Predicted')\n",
    "plt.ylabel('True')\n",
    "plt.show()"
   ]
  },
  {
   "cell_type": "markdown",
   "metadata": {},
   "source": [
    "## Classification Report"
   ]
  },
  {
   "cell_type": "code",
   "execution_count": 30,
   "metadata": {},
   "outputs": [
    {
     "name": "stdout",
     "output_type": "stream",
     "text": [
      "              precision    recall  f1-score   support\n",
      "\n",
      "           0       0.63      0.45      0.52       158\n",
      "           1       0.91      0.95      0.93       878\n",
      "\n",
      "   micro avg       0.88      0.88      0.88      1036\n",
      "   macro avg       0.77      0.70      0.73      1036\n",
      "weighted avg       0.86      0.88      0.87      1036\n",
      "\n"
     ]
    }
   ],
   "source": [
    "print(classification_report(y_test, y_pred))"
   ]
  },
  {
   "cell_type": "markdown",
   "metadata": {},
   "source": [
    "# Chi-Squared for Feature Selection\n",
    "\n",
    "We will calculate the Chi square scores for all the features and visualize the top 20, here terms or words or N-grams are features, and positive and negative are two classes. given a feature X, we can use Chi square test to evaluate its importance to distinguish the class."
   ]
  },
  {
   "cell_type": "code",
   "execution_count": 31,
   "metadata": {},
   "outputs": [
    {
     "data": {
      "image/png": "[encoded data removed]",
      "text/plain": [
       "<Figure size 864x576 with 1 Axes>"
      ]
     },
     "metadata": {
      "needs_background": "light"
     },
     "output_type": "display_data"
    }
   ],
   "source": [
    "X = cv.fit_transform(X_train)\n",
    "chi2score = chi2(X,y_train)[0]\n",
    "%matplotlib inline\n",
    "plt.figure(figsize=(12,8))\n",
    "scores = list(zip(cv.get_feature_names(), chi2score))\n",
    "chi2 = sorted(scores, key=lambda x:x[1])\n",
    "topchi2 = list(zip(*chi2[-20:]))\n",
    "x = range(len(topchi2[1]))\n",
    "labels = topchi2[0]\n",
    "plt.barh(x,topchi2[1], align='center', alpha=0.5)\n",
    "plt.plot(topchi2[1], x, '-o', markersize=5, alpha=0.8)\n",
    "plt.yticks(x, labels)\n",
    "plt.xlabel('$\\chi^2$')\n",
    "plt.show()"
   ]
  }
 ],
 "metadata": {
  "kernelspec": {
   "display_name": "Python 3",
   "language": "python",
   "name": "python3"
  },
  "language_info": {
   "codemirror_mode": {
    "name": "ipython",
    "version": 3
   },
   "file_extension": ".py",
   "mimetype": "text/x-python",
   "name": "python",
   "nbconvert_exporter": "python",
   "pygments_lexer": "ipython3",
   "version": "3.7.1"
  }
 },
 "nbformat": 4,
 "nbformat_minor": 2
}
